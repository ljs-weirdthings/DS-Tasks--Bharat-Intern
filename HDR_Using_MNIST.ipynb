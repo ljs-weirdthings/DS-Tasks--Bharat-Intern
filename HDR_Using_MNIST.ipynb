{
  "nbformat": 4,
  "nbformat_minor": 0,
  "metadata": {
    "colab": {
      "provenance": []
    },
    "kernelspec": {
      "name": "python3",
      "display_name": "Python 3"
    },
    "language_info": {
      "name": "python"
    }
  },
  "cells": [
    {
      "cell_type": "code",
      "execution_count": 1,
      "metadata": {
        "id": "hovHvbOCDUdC"
      },
      "outputs": [],
      "source": [
        "import numpy as np\n",
        "from tensorflow import keras\n",
        "from tensorflow.keras.datasets import mnist\n",
        "from tensorflow.keras.models import Sequential\n",
        "from tensorflow.keras.layers import Dense, Dropout\n",
        "from tensorflow.keras.optimizers import RMSprop"
      ]
    },
    {
      "cell_type": "code",
      "source": [
        "(x_train, y_train), (x_test, y_test) = mnist.load_data()"
      ],
      "metadata": {
        "colab": {
          "base_uri": "https://localhost:8080/"
        },
        "id": "9paS_uGoGxx8",
        "outputId": "d48baf68-261a-412d-dbc7-eb030b7226bf"
      },
      "execution_count": 2,
      "outputs": [
        {
          "output_type": "stream",
          "name": "stdout",
          "text": [
            "Downloading data from https://storage.googleapis.com/tensorflow/tf-keras-datasets/mnist.npz\n",
            "11490434/11490434 [==============================] - 1s 0us/step\n"
          ]
        }
      ]
    },
    {
      "cell_type": "code",
      "source": [
        "# Convert each image into a 1D array\n",
        "x_train = x_train.reshape(60000, 784)\n",
        "x_test = x_test.reshape(10000, 784)\n",
        "\n",
        "# Normalize pixel values between 0 and 1\n",
        "x_train = x_train.astype('float32') / 255\n",
        "x_test = x_test.astype('float32') / 255\n",
        "\n",
        "# Convert labels to categorical one-hot encoding\n",
        "y_train = keras.utils.to_categorical(y_train, 10)\n",
        "y_test = keras.utils.to_categorical(y_test, 10)"
      ],
      "metadata": {
        "id": "kAAgJTRwG55k"
      },
      "execution_count": 3,
      "outputs": []
    },
    {
      "cell_type": "code",
      "source": [
        "model = Sequential()\n",
        "model.add(Dense(512, activation='relu', input_shape=(784,)))\n",
        "model.add(Dropout(0.2))\n",
        "model.add(Dense(512, activation='relu'))\n",
        "model.add(Dropout(0.2))\n",
        "model.add(Dense(10, activation='softmax'))"
      ],
      "metadata": {
        "id": "Kk99znABG7uk"
      },
      "execution_count": 4,
      "outputs": []
    },
    {
      "cell_type": "code",
      "source": [
        "model.compile(loss='categorical_crossentropy',\n",
        "              optimizer=RMSprop(),\n",
        "              metrics=['accuracy'])"
      ],
      "metadata": {
        "id": "Qk_05cBkHE32"
      },
      "execution_count": 5,
      "outputs": []
    },
    {
      "cell_type": "code",
      "source": [
        "batch_size = 128\n",
        "epochs = 20\n",
        "\n",
        "history = model.fit(x_train, y_train,\n",
        "                    batch_size=batch_size,\n",
        "                    epochs=epochs,\n",
        "                    verbose=1,\n",
        "                    validation_data=(x_test, y_test))"
      ],
      "metadata": {
        "colab": {
          "base_uri": "https://localhost:8080/"
        },
        "id": "yz5mU-2hHIqA",
        "outputId": "f6eaaef1-198e-48d0-e1d8-364da13c7eab"
      },
      "execution_count": 6,
      "outputs": [
        {
          "output_type": "stream",
          "name": "stdout",
          "text": [
            "Epoch 1/20\n",
            "469/469 [==============================] - 14s 27ms/step - loss: 0.2551 - accuracy: 0.9214 - val_loss: 0.1062 - val_accuracy: 0.9667\n",
            "Epoch 2/20\n",
            "469/469 [==============================] - 9s 20ms/step - loss: 0.1041 - accuracy: 0.9676 - val_loss: 0.0994 - val_accuracy: 0.9691\n",
            "Epoch 3/20\n",
            "469/469 [==============================] - 10s 22ms/step - loss: 0.0747 - accuracy: 0.9767 - val_loss: 0.0764 - val_accuracy: 0.9768\n",
            "Epoch 4/20\n",
            "469/469 [==============================] - 10s 22ms/step - loss: 0.0582 - accuracy: 0.9819 - val_loss: 0.0720 - val_accuracy: 0.9786\n",
            "Epoch 5/20\n",
            "469/469 [==============================] - 10s 22ms/step - loss: 0.0489 - accuracy: 0.9845 - val_loss: 0.0688 - val_accuracy: 0.9790\n",
            "Epoch 6/20\n",
            "469/469 [==============================] - 9s 20ms/step - loss: 0.0387 - accuracy: 0.9876 - val_loss: 0.0630 - val_accuracy: 0.9828\n",
            "Epoch 7/20\n",
            "469/469 [==============================] - 10s 22ms/step - loss: 0.0342 - accuracy: 0.9890 - val_loss: 0.0705 - val_accuracy: 0.9824\n",
            "Epoch 8/20\n",
            "469/469 [==============================] - 11s 23ms/step - loss: 0.0304 - accuracy: 0.9899 - val_loss: 0.0643 - val_accuracy: 0.9837\n",
            "Epoch 9/20\n",
            "469/469 [==============================] - 11s 23ms/step - loss: 0.0263 - accuracy: 0.9915 - val_loss: 0.0697 - val_accuracy: 0.9828\n",
            "Epoch 10/20\n",
            "469/469 [==============================] - 11s 23ms/step - loss: 0.0225 - accuracy: 0.9928 - val_loss: 0.0672 - val_accuracy: 0.9829\n",
            "Epoch 11/20\n",
            "469/469 [==============================] - 10s 20ms/step - loss: 0.0187 - accuracy: 0.9936 - val_loss: 0.0713 - val_accuracy: 0.9831\n",
            "Epoch 12/20\n",
            "469/469 [==============================] - 10s 22ms/step - loss: 0.0195 - accuracy: 0.9937 - val_loss: 0.0759 - val_accuracy: 0.9825\n",
            "Epoch 13/20\n",
            "469/469 [==============================] - 11s 23ms/step - loss: 0.0174 - accuracy: 0.9942 - val_loss: 0.0725 - val_accuracy: 0.9820\n",
            "Epoch 14/20\n",
            "469/469 [==============================] - 11s 23ms/step - loss: 0.0162 - accuracy: 0.9950 - val_loss: 0.0697 - val_accuracy: 0.9845\n",
            "Epoch 15/20\n",
            "469/469 [==============================] - 11s 23ms/step - loss: 0.0168 - accuracy: 0.9949 - val_loss: 0.0803 - val_accuracy: 0.9824\n",
            "Epoch 16/20\n",
            "469/469 [==============================] - 9s 20ms/step - loss: 0.0142 - accuracy: 0.9953 - val_loss: 0.0721 - val_accuracy: 0.9848\n",
            "Epoch 17/20\n",
            "469/469 [==============================] - 11s 22ms/step - loss: 0.0128 - accuracy: 0.9956 - val_loss: 0.0693 - val_accuracy: 0.9851\n",
            "Epoch 18/20\n",
            "469/469 [==============================] - 11s 23ms/step - loss: 0.0125 - accuracy: 0.9959 - val_loss: 0.0840 - val_accuracy: 0.9826\n",
            "Epoch 19/20\n",
            "469/469 [==============================] - 11s 22ms/step - loss: 0.0096 - accuracy: 0.9967 - val_loss: 0.0779 - val_accuracy: 0.9846\n",
            "Epoch 20/20\n",
            "469/469 [==============================] - 10s 21ms/step - loss: 0.0093 - accuracy: 0.9967 - val_loss: 0.0755 - val_accuracy: 0.9854\n"
          ]
        }
      ]
    },
    {
      "cell_type": "code",
      "source": [
        "score = model.evaluate(x_test, y_test, verbose=0)\n",
        "print('Test loss:', score[0])\n",
        "print('Test accuracy:', score[1])"
      ],
      "metadata": {
        "colab": {
          "base_uri": "https://localhost:8080/"
        },
        "id": "j2suoFumICLv",
        "outputId": "8cf973d7-3b0e-446d-c51d-a325514f73ba"
      },
      "execution_count": 8,
      "outputs": [
        {
          "output_type": "stream",
          "name": "stdout",
          "text": [
            "Test loss: 0.07552781701087952\n",
            "Test accuracy: 0.9854000210762024\n"
          ]
        }
      ]
    }
  ]
}